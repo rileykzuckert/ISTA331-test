{
 "cells": [
  {
   "cell_type": "markdown",
   "metadata": {},
   "source": [
    "# Introduction to Conditional Probability (Worksheet)"
   ]
  },
  {
   "cell_type": "code",
   "execution_count": 1,
   "metadata": {},
   "outputs": [
    {
     "data": {
      "text/plain": [
       "'\\nName: Riley Zuckert\\nDate: 1/21/22\\nISTA 331\\nCollaborator(s):\\n'"
      ]
     },
     "execution_count": 1,
     "metadata": {},
     "output_type": "execute_result"
    }
   ],
   "source": [
    "import pandas as pd\n",
    "df = pd.read_csv('TIA_1987_2016_with_dates.csv', index_col=0, parse_dates=True)\n",
    "\n",
    "'''\n",
    "Name: Riley Zuckert\n",
    "Date: 1/21/22\n",
    "ISTA 331\n",
    "Collaborator(s):\n",
    "'''"
   ]
  },
  {
   "cell_type": "markdown",
   "metadata": {},
   "source": [
    "## Part 1: Probability calculations"
   ]
  },
  {
   "cell_type": "markdown",
   "metadata": {},
   "source": [
    "1. In the entire data frame, what is the frequency of the event that the high temperature is over 90 degrees? What is the estimated probability that the high temperature is over 90 degrees?"
   ]
  },
  {
   "cell_type": "code",
   "execution_count": 6,
   "metadata": {},
   "outputs": [
    {
     "data": {
      "text/plain": [
       "4520"
      ]
     },
     "execution_count": 6,
     "metadata": {},
     "output_type": "execute_result"
    }
   ],
   "source": [
    "B = df[df.MaxT > 90]\n",
    "freq = len(B)\n",
    "freq"
   ]
  },
  {
   "cell_type": "code",
   "execution_count": 7,
   "metadata": {},
   "outputs": [
    {
     "data": {
      "text/plain": [
       "0.4124840299324694"
      ]
     },
     "execution_count": 7,
     "metadata": {},
     "output_type": "execute_result"
    }
   ],
   "source": [
    "freq / len(df)"
   ]
  },
  {
   "cell_type": "markdown",
   "metadata": {},
   "source": [
    "The frequency of events where the high temperature is over 90 degrees is 4,520 days. \n",
    "The estimated probability that the high temperature is over 90 degrees is approximately 41.25%."
   ]
  },
  {
   "cell_type": "markdown",
   "metadata": {},
   "source": [
    "2. What is the estimated probability that a day is in June, July, or August? \n",
    "\n",
    "* Hint 1: the `DatetimeIndex` type that is used here has an attribute `month`. Try evaluating `df.index.month` to see how it works. You can use this to create a Boolean expression to index out the months you want.\n",
    "* Hint 2: as a consistency check, this should be pretty close to 25%. Why is this true?"
   ]
  },
  {
   "cell_type": "code",
   "execution_count": 39,
   "metadata": {},
   "outputs": [
    {
     "data": {
      "text/plain": [
       "0.25187077933929547"
      ]
     },
     "execution_count": 39,
     "metadata": {},
     "output_type": "execute_result"
    }
   ],
   "source": [
    "B = df[df.index.month.isin([6,7,8])]\n",
    "len(B) / len(df)"
   ]
  },
  {
   "cell_type": "markdown",
   "metadata": {},
   "source": [
    "The estimated probability that a day is in June, July, or August is approximately 25.19%. This number is close to 25% as the three of these months make up 1/4 of the calendar, or 25% of the months of the year."
   ]
  },
  {
   "cell_type": "markdown",
   "metadata": {},
   "source": [
    "3. What is the estimated probability that a day has a high temperature over 90 degrees **and** is in June, July, or August?"
   ]
  },
  {
   "cell_type": "code",
   "execution_count": 42,
   "metadata": {},
   "outputs": [
    {
     "data": {
      "text/plain": [
       "0.23854718014236173"
      ]
     },
     "execution_count": 42,
     "metadata": {},
     "output_type": "execute_result"
    }
   ],
   "source": [
    "len(df[(df.MaxT > 90) & (df.index.month.isin([6,7,8]))]) / len(df)"
   ]
  },
  {
   "cell_type": "markdown",
   "metadata": {},
   "source": [
    "The estimated probability that a day has a high temperature over 90 degrees and is in June, July, or August is approximately 23.85%."
   ]
  },
  {
   "cell_type": "markdown",
   "metadata": {},
   "source": [
    "4. What is the estimated probability that a day has a high temperature over 90 degrees **given** it is in June, July, or August?"
   ]
  },
  {
   "cell_type": "code",
   "execution_count": 44,
   "metadata": {},
   "outputs": [
    {
     "data": {
      "text/plain": [
       "0.9471014492753623"
      ]
     },
     "execution_count": 44,
     "metadata": {},
     "output_type": "execute_result"
    }
   ],
   "source": [
    "B = df[df.index.month.isin([6,7,8])]\n",
    "A_and_B = B[B.MaxT > 90]\n",
    "P_A_given_B = len(A_and_B) / len(B)\n",
    "P_A_given_B"
   ]
  },
  {
   "cell_type": "markdown",
   "metadata": {},
   "source": [
    "The estimated probability that a day has a high temperature over 90 degrees given it is in June, July, or August is approximately 94.71%."
   ]
  },
  {
   "cell_type": "markdown",
   "metadata": {},
   "source": [
    "5. What is the estimated probability that a day is in June, July, or August given its high temperature is over 90 degrees? Is your answer the same as the answer to part 4?"
   ]
  },
  {
   "cell_type": "code",
   "execution_count": 46,
   "metadata": {},
   "outputs": [
    {
     "data": {
      "text/plain": [
       "0.5783185840707965"
      ]
     },
     "execution_count": 46,
     "metadata": {},
     "output_type": "execute_result"
    }
   ],
   "source": [
    "B = df[df.MaxT > 90]\n",
    "A_and_B = B[B.index.month.isin([6,7,8])]\n",
    "P_A_given_B = len(A_and_B) / len(B)\n",
    "P_A_given_B"
   ]
  },
  {
   "cell_type": "markdown",
   "metadata": {},
   "source": [
    "The estimated probability that a day is in June, July, or August given its high temperature is over 90 degrees is approximately 57.83%.\n",
    "No, this answer is not the same as the answer to part 4 because P(A) != P(B)."
   ]
  },
  {
   "cell_type": "markdown",
   "metadata": {},
   "source": [
    "## Part 2: Function writing"
   ]
  },
  {
   "cell_type": "markdown",
   "metadata": {},
   "source": [
    "1. Write a function called `get_P` that takes a frame, an attribute name (as a string), a cutoff, another attribute name, and another cutoff. It should return the conditional probability that the first attribute is greater than the first cutoff given that the second attribute is greater than the second cutoff."
   ]
  },
  {
   "cell_type": "code",
   "execution_count": 52,
   "metadata": {},
   "outputs": [],
   "source": [
    "def get_P(frame, attribute_1, cutoff_1, attribute_2, cutoff_2):\n",
    "    B = frame[frame[attribute_2] > cutoff_2]\n",
    "    A_and_B = B[B[attribute_1] > cutoff_1]\n",
    "    P_A_given_B = len(A_and_B) / len(B)\n",
    "    return P_A_given_B"
   ]
  },
  {
   "cell_type": "code",
   "execution_count": 53,
   "metadata": {},
   "outputs": [],
   "source": [
    "### Run this cell to test your code\n",
    "from math import isclose\n",
    "correct_1 = 0.8011734028683182\n",
    "correct_2 = 0.11490125673249552\n",
    "\n",
    "assert(isclose(correct_1, get_P(df, 'MaxT', 70, 'MinT', 30)))\n",
    "assert(isclose(correct_2, get_P(df, 'Pcpn', 0, 'MaxT', 100)))"
   ]
  },
  {
   "cell_type": "code",
   "execution_count": 54,
   "metadata": {},
   "outputs": [
    {
     "data": {
      "text/plain": [
       "0.8011734028683182"
      ]
     },
     "execution_count": 54,
     "metadata": {},
     "output_type": "execute_result"
    }
   ],
   "source": [
    "get_P(df, 'MaxT', 70, 'MinT', 30)"
   ]
  },
  {
   "cell_type": "code",
   "execution_count": 55,
   "metadata": {},
   "outputs": [
    {
     "data": {
      "text/plain": [
       "0.11490125673249552"
      ]
     },
     "execution_count": 55,
     "metadata": {},
     "output_type": "execute_result"
    }
   ],
   "source": [
    "get_P(df, 'Pcpn', 0, 'MaxT', 100)"
   ]
  }
 ],
 "metadata": {
  "kernelspec": {
   "display_name": "Python 3",
   "language": "python",
   "name": "python3"
  },
  "language_info": {
   "codemirror_mode": {
    "name": "ipython",
    "version": 3
   },
   "file_extension": ".py",
   "mimetype": "text/x-python",
   "name": "python",
   "nbconvert_exporter": "python",
   "pygments_lexer": "ipython3",
   "version": "3.7.6"
  }
 },
 "nbformat": 4,
 "nbformat_minor": 4
}
